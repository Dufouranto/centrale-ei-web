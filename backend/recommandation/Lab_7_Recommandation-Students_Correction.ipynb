{
 "cells": [
  {
   "cell_type": "markdown",
   "metadata": {
    "id": "sDbHuUqwr_gm"
   },
   "source": [
    "<center><img src='https://drive.google.com/uc?export=view&id=1qJ8NqAZolTBQY7lN-deZ8xEsU3dlUiLz' width=200></center>\n",
    "\n",
    "\n",
    "<h6><center></center></h6>\n",
    "\n",
    "<h1>\n",
    "<hr style=\" border:none; height:3px;\">\n",
    "<center>Recherche d'Information et traitement de données massives </center>\n",
    "    <center> Lab 7 : Personnalisation : Systèmes de recommandation </center>\n",
    "<hr style=\" border:none; height:3px;\">\n",
    "</h1>"
   ]
  },
  {
   "cell_type": "markdown",
   "metadata": {
    "id": "fXErZgyTr_gz"
   },
   "source": [
    "Ce lab a pour objectif de vous familiariser avec le problème de la recommandation par la réalisation d'un système de recommandation de films.  "
   ]
  },
  {
   "cell_type": "markdown",
   "metadata": {
    "id": "FZ7k5P-BsS0b"
   },
   "source": [
    "## Avant de démarrer\n",
    "\n",
    "Dans ce lab nous allons utiliser la bibliothèque Panda. Pour la découvir (si ce n'est pas déjà fait), nous vous proposons un petit tuto que vous pouvez récupérer [ici](https://github.com/wassilaOuerdane/Lab7_TutoPanda_2021.git)"
   ]
  },
  {
   "cell_type": "markdown",
   "metadata": {
    "id": "PIb7SinGsYDl"
   },
   "source": [
    "## Démarrage du Lab7\n",
    "\n",
    "Comme pour les précédents labs, pour le cas du lab effectué sur colab, voici les **instructions pour permettre l'importation de ce dossier Data fournie avec ce lab :**\n",
    "\n",
    "1.   Dans le dossier Lab7_Recom-2021 téléchargé depuis git, vous trouverez une archive Archive_Lab7.zip.\n",
    "2.   Ouvrir le panneau Fichiers de colab (c'est à dire cliquez sur le logo en forme de dossier à gauche) et cliquez sur le premier bouton en haut à gauche vous permettant de télécharger. Téléchargez ainsi l'Archive_Lab7.zip dans votre colab. Si besoin actualiser jusqu'à voir l'archive apparaître dans le panneau. \n",
    "3.    Exécutez la céllule de code suivante pour déziper l'archive."
   ]
  },
  {
   "cell_type": "code",
   "execution_count": null,
   "metadata": {
    "id": "zMN9UoHBsdL9"
   },
   "outputs": [],
   "source": [
    "!unzip Archive_Lab7.zip"
   ]
  },
  {
   "cell_type": "markdown",
   "metadata": {
    "id": "_X96R_SBr_g1"
   },
   "source": [
    "### Avant propos : un bref rappel du Filtrage Collaboratif\n",
    "\n",
    "Le problème de la recommandation vise à prédire des scores de pertinence personnalisés à l’utilisateur pour un item, objet non vu. Différentes approches existent : filtrage collaboratif, basées sur le contenu, basées sur la connaissances, ...  (voir le cours 7)\n",
    "\n",
    "Dans ce Lab on s'intéressera au Filtrage collaboratif. L'idée est de prendre en compte les relations de similarité entre les utilisateurs et les éléments. En d'autres termes, la similarité entre éléments est déterminée en prenant en\n",
    "compte les notes des utilisateurs ayant jugés ces éléments.\n",
    "\n",
    "<center><img src='https://drive.google.com/uc?export=view&id=1FjcxWD9IarWw3JAxhvTmagECHoZU-hjp' width=350></center>\n",
    "\n",
    "\n",
    "\n",
    "Deux types de filtrage collaboratif :\n",
    "\n",
    "- **Approche par voisinnage (memory-based)** : cette approche calcule la prédiction d'un item $i$ pour un utilisateur $x$ en se basant sur les plus proches voisins de $x$ (i.e. ceux dont l'ensemble de notations est similaire à l'ensemble des notation de $x$). \n",
    "\n",
    "- **Approche par modèles (model-based)** : cette approche cherche à predire le score d'un item $i$ pour un utilisateur $x$, sur la base des items qui sont similaires à $i$. Donc, l'estimation de la note pour l’élément se fait à partir des notes des éléments de $x$ similaires à $i$."
   ]
  },
  {
   "cell_type": "markdown",
   "metadata": {
    "id": "qQJVfP2Jr_g2"
   },
   "source": [
    "## PARTIE 1 : Exercice\n"
   ]
  },
  {
   "cell_type": "markdown",
   "metadata": {
    "id": "sxhGXk6hr_g2"
   },
   "source": [
    "<div class=\"alert alert-block alert-danger\">\n",
    "<b>Note : </b> un exercice sur un fichier pdf séparé est disponible sur EDUNAO et Teams. Il vous permettra de réviser plus simplement les concepts du cours.\n",
    "</div>"
   ]
  },
  {
   "cell_type": "markdown",
   "metadata": {
    "id": "8MxGIqAxr_g3"
   },
   "source": [
    "## PARTIE 2 : Applicaton au corpus MovieLens\n",
    "\n",
    "Dans cette partie nous travaillerons sur la base du corpus [MOVIELENS dataset](https://grouplens.org/datasets/movielens/) qui contient les jugements de films d'un ensemble d'utilisateurs ainsi que des informations sur les utilisateurs et sur les films. L'objectif de cette partie est de mettre en place un système de recommandation de films à partir de ce corpus. \n",
    "Il s'agira par exemple de pouvoir répondre à la question suivante : *quels sont les films pouvant plaire à une personne étant donné la connaissance sur cette personne (e.g. les autres films qu'elle a aimé ou les utilisateurs ressemblant à cette personne) ?* \n",
    "\n",
    "Pour ce travail, il est conseillé de travailler avec le [MovieLens 100K Dataset](https://grouplens.org/datasets/movielens/100k/) et de tester ensuite votre approche sur les datasets de  taille plus conséquente :\n",
    " + MovieLens 1M Dataset (1M de notes sur 4000 films par 6000 utilisateurs), disponible [ici](https://grouplens.org/datasets/movielens/1m/)\n",
    " + MovieLens 10M Dataset (10M de notes sur 10 000 films par 72000 utilisateurs, disponible [ici](https://grouplens.org/datasets/movielens/10m/)\n",
    " \n",
    "Pour répondre aux différentes questions nous allons faire appel à la bibliothque Pandas, numpy et matplotlib, que nous vous proposons d'installer en executant les cellules suivantes. "
   ]
  },
  {
   "cell_type": "code",
   "execution_count": null,
   "metadata": {
    "colab": {
     "base_uri": "https://localhost:8080/"
    },
    "executionInfo": {
     "elapsed": 4105,
     "status": "ok",
     "timestamp": 1621059965723,
     "user": {
      "displayName": "Wassila Ouerdane",
      "photoUrl": "",
      "userId": "06311256887956564892"
     },
     "user_tz": -120
    },
    "id": "pWhclDo-s1wM",
    "outputId": "5efc2e60-4bef-4719-bb1d-ee91f0c480cf"
   },
   "outputs": [
    {
     "name": "stdout",
     "output_type": "stream",
     "text": [
      "Requirement already satisfied: pandas in /usr/local/lib/python3.7/dist-packages (1.1.5)\n",
      "Requirement already satisfied: numpy>=1.15.4 in /usr/local/lib/python3.7/dist-packages (from pandas) (1.19.5)\n",
      "Requirement already satisfied: pytz>=2017.2 in /usr/local/lib/python3.7/dist-packages (from pandas) (2018.9)\n",
      "Requirement already satisfied: python-dateutil>=2.7.3 in /usr/local/lib/python3.7/dist-packages (from pandas) (2.8.1)\n",
      "Requirement already satisfied: six>=1.5 in /usr/local/lib/python3.7/dist-packages (from python-dateutil>=2.7.3->pandas) (1.15.0)\n"
     ]
    }
   ],
   "source": [
    "!pip install pandas"
   ]
  },
  {
   "cell_type": "code",
   "execution_count": null,
   "metadata": {
    "colab": {
     "base_uri": "https://localhost:8080/"
    },
    "executionInfo": {
     "elapsed": 3058,
     "status": "ok",
     "timestamp": 1621059970798,
     "user": {
      "displayName": "Wassila Ouerdane",
      "photoUrl": "",
      "userId": "06311256887956564892"
     },
     "user_tz": -120
    },
    "id": "KSRjye7ns4H4",
    "outputId": "49386e34-1fb4-4e4f-c421-7dd9ec39d532"
   },
   "outputs": [
    {
     "name": "stdout",
     "output_type": "stream",
     "text": [
      "Requirement already satisfied: numpy in /usr/local/lib/python3.7/dist-packages (1.19.5)\n"
     ]
    }
   ],
   "source": [
    "!pip install numpy"
   ]
  },
  {
   "cell_type": "code",
   "execution_count": null,
   "metadata": {
    "colab": {
     "base_uri": "https://localhost:8080/"
    },
    "executionInfo": {
     "elapsed": 3313,
     "status": "ok",
     "timestamp": 1621059980601,
     "user": {
      "displayName": "Wassila Ouerdane",
      "photoUrl": "",
      "userId": "06311256887956564892"
     },
     "user_tz": -120
    },
    "id": "pVuxNJ48s6Uy",
    "outputId": "80b1364d-b78b-4c44-8bb5-4f5b0168eee1"
   },
   "outputs": [
    {
     "name": "stdout",
     "output_type": "stream",
     "text": [
      "Requirement already satisfied: matplotlib in /usr/local/lib/python3.7/dist-packages (3.2.2)\n",
      "Requirement already satisfied: kiwisolver>=1.0.1 in /usr/local/lib/python3.7/dist-packages (from matplotlib) (1.3.1)\n",
      "Requirement already satisfied: pyparsing!=2.0.4,!=2.1.2,!=2.1.6,>=2.0.1 in /usr/local/lib/python3.7/dist-packages (from matplotlib) (2.4.7)\n",
      "Requirement already satisfied: numpy>=1.11 in /usr/local/lib/python3.7/dist-packages (from matplotlib) (1.19.5)\n",
      "Requirement already satisfied: python-dateutil>=2.1 in /usr/local/lib/python3.7/dist-packages (from matplotlib) (2.8.1)\n",
      "Requirement already satisfied: cycler>=0.10 in /usr/local/lib/python3.7/dist-packages (from matplotlib) (0.10.0)\n",
      "Requirement already satisfied: six>=1.5 in /usr/local/lib/python3.7/dist-packages (from python-dateutil>=2.1->matplotlib) (1.15.0)\n"
     ]
    }
   ],
   "source": [
    "!pip install matplotlib"
   ]
  },
  {
   "cell_type": "markdown",
   "metadata": {
    "id": "vVecOJBJr_g6"
   },
   "source": [
    "### Etude du corpus\n",
    "\n",
    "Une des premières choses à faire est de prendre connaissance de ce corpus et de calculer quelques informations statistiques sur ce corpus. A l'aide des bibliothèques [pandas](https://pandas.pydata.org/), et [numpy](https://www.numpy.org),  répondez aux questions qui vont suivre concernant le corpus. Mais avant cela, nous allons introduire quelques éléments descriptifs utiles sur le corpus.\n",
    "\n",
    "Le corpus MOVIELENS est disponible [ici](https://grouplens.org/datasets/movielens/100k/).  Plus précisemment, ce corpus est constitué des fichiers suivants :\n",
    "\n",
    "+ Le fichier [u.data](./Data/ml-100k/u.data) : regroupe l'ensemble des données : 100000 notations par 943 utilisateurs sur 1682 items. Chaque utilisateur  a noté au moins 20 films.  Cette table contient:  \n",
    "\n",
    "               user id | item id | rating | timestamp.           \n",
    "          \n",
    "  les utilisateurs et les items sont numérotés à partir de  1 et les données sont aléatoirement ordonées.  \n",
    "  \n",
    "              \n",
    "+ Le fichier [u.user](./Data/ml-100k/u.user) : information démographique sur les utiliisateurs. Il contient: \n",
    "                         \n",
    "              user id | age | gender | occupation | zip code\n",
    "                         \n",
    "                            \n",
    "+ Le fichier [u.item](./Data/ml-100k/u.item) : contient les informations sur les items (films) : \n",
    "              \n",
    "              movie id | movie title | release date | video release date |\n",
    "              IMDb URL | unknown | Action | Adventure | Animation |\n",
    "              Children's | Comedy | Crime | Documentary | Drama | Fantasy |\n",
    "              Film-Noir | Horror | Musical | Mystery | Romance | Sci-Fi |\n",
    "              Thriller | War | Western |\n",
    "              \n",
    "\n",
    "\n",
    "**Le code suivant permet d'extraire le contenu de ces fichiers.** \n"
   ]
  },
  {
   "cell_type": "code",
   "execution_count": null,
   "metadata": {
    "id": "SA5YKnE1r_g7"
   },
   "outputs": [],
   "source": [
    "import numpy as np\n",
    "import pandas as pd\n",
    "\n",
    "import matplotlib.pyplot as plt\n",
    "\n",
    "#column headers for the dataset\n",
    "\n",
    "data_cols = ['user_id','item_id','rating','timestamp']\n",
    "\n",
    "#items' table\n",
    "item_cols = ['movie id','movie title','release date',\n",
    "'video release date','IMDb URL','unknown','Action',\n",
    "'Adventure','Animation','Childrens','Comedy','Crime',\n",
    "'Documentary','Drama','Fantasy','Film-Noir','Horror',\n",
    "'Musical','Mystery','Romance ','Sci-Fi','Thriller',\n",
    "'War' ,'Western']\n",
    "\n",
    "\n",
    "#users' table\n",
    "user_cols = ['user id','age','gender','occupation',\n",
    "'zip code']\n",
    "\n",
    "#importing the data files onto dataframes\n",
    "\n",
    "# Note: pour les presonnes sur Colab attention a mettre ./Archive_Lab7/Data/ au lieu de ./Data/\n",
    "\n",
    "users = pd.read_csv('./Data/ml-100k/u.user', sep='|',names=user_cols, encoding='latin-1')\n",
    "item = pd.read_csv('./Data/ml-100k/u.item', sep='|',names=item_cols, encoding='latin-1')\n",
    "data = pd.read_csv('./Data/ml-100k/u.data', sep='\\t',names=data_cols, encoding='latin-1')\n",
    "\n",
    "\n"
   ]
  },
  {
   "cell_type": "code",
   "execution_count": null,
   "metadata": {
    "id": "uW1zJ0Sxr_g8",
    "outputId": "70c3d418-6e46-4023-8ed5-52a812900198"
   },
   "outputs": [
    {
     "name": "stdout",
     "output_type": "stream",
     "text": [
      "User information\n",
      "   user id  age gender  occupation zip code\n",
      "0        1   24      M  technician    85711\n",
      "1        2   53      F       other    94043\n",
      "2        3   23      M      writer    32067\n",
      "3        4   24      M  technician    43537\n",
      "4        5   33      F       other    15213\n"
     ]
    }
   ],
   "source": [
    "#printing the head of these dataframes\n",
    "\n",
    "print(\"User information\")\n",
    "print(users.head()) # it will print only the head. To have the whole table remove .head()"
   ]
  },
  {
   "cell_type": "code",
   "execution_count": null,
   "metadata": {
    "id": "uL5QzXWSr_g8",
    "outputId": "a204f24b-513b-46be-b103-11d1314906aa"
   },
   "outputs": [
    {
     "name": "stdout",
     "output_type": "stream",
     "text": [
      "Item information\n"
     ]
    },
    {
     "data": {
      "text/html": [
       "<div>\n",
       "<style scoped>\n",
       "    .dataframe tbody tr th:only-of-type {\n",
       "        vertical-align: middle;\n",
       "    }\n",
       "\n",
       "    .dataframe tbody tr th {\n",
       "        vertical-align: top;\n",
       "    }\n",
       "\n",
       "    .dataframe thead th {\n",
       "        text-align: right;\n",
       "    }\n",
       "</style>\n",
       "<table border=\"1\" class=\"dataframe\">\n",
       "  <thead>\n",
       "    <tr style=\"text-align: right;\">\n",
       "      <th></th>\n",
       "      <th>movie id</th>\n",
       "      <th>movie title</th>\n",
       "      <th>release date</th>\n",
       "      <th>video release date</th>\n",
       "      <th>IMDb URL</th>\n",
       "      <th>unknown</th>\n",
       "      <th>Action</th>\n",
       "      <th>Adventure</th>\n",
       "      <th>Animation</th>\n",
       "      <th>Childrens</th>\n",
       "      <th>...</th>\n",
       "      <th>Fantasy</th>\n",
       "      <th>Film-Noir</th>\n",
       "      <th>Horror</th>\n",
       "      <th>Musical</th>\n",
       "      <th>Mystery</th>\n",
       "      <th>Romance</th>\n",
       "      <th>Sci-Fi</th>\n",
       "      <th>Thriller</th>\n",
       "      <th>War</th>\n",
       "      <th>Western</th>\n",
       "    </tr>\n",
       "  </thead>\n",
       "  <tbody>\n",
       "    <tr>\n",
       "      <th>0</th>\n",
       "      <td>1</td>\n",
       "      <td>Toy Story (1995)</td>\n",
       "      <td>01-Jan-1995</td>\n",
       "      <td>NaN</td>\n",
       "      <td>http://us.imdb.com/M/title-exact?Toy%20Story%2...</td>\n",
       "      <td>0</td>\n",
       "      <td>0</td>\n",
       "      <td>0</td>\n",
       "      <td>1</td>\n",
       "      <td>1</td>\n",
       "      <td>...</td>\n",
       "      <td>0</td>\n",
       "      <td>0</td>\n",
       "      <td>0</td>\n",
       "      <td>0</td>\n",
       "      <td>0</td>\n",
       "      <td>0</td>\n",
       "      <td>0</td>\n",
       "      <td>0</td>\n",
       "      <td>0</td>\n",
       "      <td>0</td>\n",
       "    </tr>\n",
       "    <tr>\n",
       "      <th>1</th>\n",
       "      <td>2</td>\n",
       "      <td>GoldenEye (1995)</td>\n",
       "      <td>01-Jan-1995</td>\n",
       "      <td>NaN</td>\n",
       "      <td>http://us.imdb.com/M/title-exact?GoldenEye%20(...</td>\n",
       "      <td>0</td>\n",
       "      <td>1</td>\n",
       "      <td>1</td>\n",
       "      <td>0</td>\n",
       "      <td>0</td>\n",
       "      <td>...</td>\n",
       "      <td>0</td>\n",
       "      <td>0</td>\n",
       "      <td>0</td>\n",
       "      <td>0</td>\n",
       "      <td>0</td>\n",
       "      <td>0</td>\n",
       "      <td>0</td>\n",
       "      <td>1</td>\n",
       "      <td>0</td>\n",
       "      <td>0</td>\n",
       "    </tr>\n",
       "    <tr>\n",
       "      <th>2</th>\n",
       "      <td>3</td>\n",
       "      <td>Four Rooms (1995)</td>\n",
       "      <td>01-Jan-1995</td>\n",
       "      <td>NaN</td>\n",
       "      <td>http://us.imdb.com/M/title-exact?Four%20Rooms%...</td>\n",
       "      <td>0</td>\n",
       "      <td>0</td>\n",
       "      <td>0</td>\n",
       "      <td>0</td>\n",
       "      <td>0</td>\n",
       "      <td>...</td>\n",
       "      <td>0</td>\n",
       "      <td>0</td>\n",
       "      <td>0</td>\n",
       "      <td>0</td>\n",
       "      <td>0</td>\n",
       "      <td>0</td>\n",
       "      <td>0</td>\n",
       "      <td>1</td>\n",
       "      <td>0</td>\n",
       "      <td>0</td>\n",
       "    </tr>\n",
       "    <tr>\n",
       "      <th>3</th>\n",
       "      <td>4</td>\n",
       "      <td>Get Shorty (1995)</td>\n",
       "      <td>01-Jan-1995</td>\n",
       "      <td>NaN</td>\n",
       "      <td>http://us.imdb.com/M/title-exact?Get%20Shorty%...</td>\n",
       "      <td>0</td>\n",
       "      <td>1</td>\n",
       "      <td>0</td>\n",
       "      <td>0</td>\n",
       "      <td>0</td>\n",
       "      <td>...</td>\n",
       "      <td>0</td>\n",
       "      <td>0</td>\n",
       "      <td>0</td>\n",
       "      <td>0</td>\n",
       "      <td>0</td>\n",
       "      <td>0</td>\n",
       "      <td>0</td>\n",
       "      <td>0</td>\n",
       "      <td>0</td>\n",
       "      <td>0</td>\n",
       "    </tr>\n",
       "    <tr>\n",
       "      <th>4</th>\n",
       "      <td>5</td>\n",
       "      <td>Copycat (1995)</td>\n",
       "      <td>01-Jan-1995</td>\n",
       "      <td>NaN</td>\n",
       "      <td>http://us.imdb.com/M/title-exact?Copycat%20(1995)</td>\n",
       "      <td>0</td>\n",
       "      <td>0</td>\n",
       "      <td>0</td>\n",
       "      <td>0</td>\n",
       "      <td>0</td>\n",
       "      <td>...</td>\n",
       "      <td>0</td>\n",
       "      <td>0</td>\n",
       "      <td>0</td>\n",
       "      <td>0</td>\n",
       "      <td>0</td>\n",
       "      <td>0</td>\n",
       "      <td>0</td>\n",
       "      <td>1</td>\n",
       "      <td>0</td>\n",
       "      <td>0</td>\n",
       "    </tr>\n",
       "  </tbody>\n",
       "</table>\n",
       "<p>5 rows × 24 columns</p>\n",
       "</div>"
      ],
      "text/plain": [
       "   movie id        movie title release date  video release date  \\\n",
       "0         1   Toy Story (1995)  01-Jan-1995                 NaN   \n",
       "1         2   GoldenEye (1995)  01-Jan-1995                 NaN   \n",
       "2         3  Four Rooms (1995)  01-Jan-1995                 NaN   \n",
       "3         4  Get Shorty (1995)  01-Jan-1995                 NaN   \n",
       "4         5     Copycat (1995)  01-Jan-1995                 NaN   \n",
       "\n",
       "                                            IMDb URL  unknown  Action  \\\n",
       "0  http://us.imdb.com/M/title-exact?Toy%20Story%2...        0       0   \n",
       "1  http://us.imdb.com/M/title-exact?GoldenEye%20(...        0       1   \n",
       "2  http://us.imdb.com/M/title-exact?Four%20Rooms%...        0       0   \n",
       "3  http://us.imdb.com/M/title-exact?Get%20Shorty%...        0       1   \n",
       "4  http://us.imdb.com/M/title-exact?Copycat%20(1995)        0       0   \n",
       "\n",
       "   Adventure  Animation  Childrens  ...  Fantasy  Film-Noir  Horror  Musical  \\\n",
       "0          0          1          1  ...        0          0       0        0   \n",
       "1          1          0          0  ...        0          0       0        0   \n",
       "2          0          0          0  ...        0          0       0        0   \n",
       "3          0          0          0  ...        0          0       0        0   \n",
       "4          0          0          0  ...        0          0       0        0   \n",
       "\n",
       "   Mystery  Romance   Sci-Fi  Thriller  War  Western  \n",
       "0        0         0       0         0    0        0  \n",
       "1        0         0       0         1    0        0  \n",
       "2        0         0       0         1    0        0  \n",
       "3        0         0       0         0    0        0  \n",
       "4        0         0       0         1    0        0  \n",
       "\n",
       "[5 rows x 24 columns]"
      ]
     },
     "execution_count": 3,
     "metadata": {
      "tags": []
     },
     "output_type": "execute_result"
    }
   ],
   "source": [
    "print(\"Item information\")\n",
    "item.head()\n"
   ]
  },
  {
   "cell_type": "code",
   "execution_count": null,
   "metadata": {
    "id": "OOe-iO-3r_g-",
    "outputId": "02a02be4-512e-4731-ec99-61f5d4106506"
   },
   "outputs": [
    {
     "name": "stdout",
     "output_type": "stream",
     "text": [
      "Data information\n"
     ]
    },
    {
     "data": {
      "text/html": [
       "<div>\n",
       "<style scoped>\n",
       "    .dataframe tbody tr th:only-of-type {\n",
       "        vertical-align: middle;\n",
       "    }\n",
       "\n",
       "    .dataframe tbody tr th {\n",
       "        vertical-align: top;\n",
       "    }\n",
       "\n",
       "    .dataframe thead th {\n",
       "        text-align: right;\n",
       "    }\n",
       "</style>\n",
       "<table border=\"1\" class=\"dataframe\">\n",
       "  <thead>\n",
       "    <tr style=\"text-align: right;\">\n",
       "      <th></th>\n",
       "      <th>user_id</th>\n",
       "      <th>item_id</th>\n",
       "      <th>rating</th>\n",
       "      <th>timestamp</th>\n",
       "    </tr>\n",
       "  </thead>\n",
       "  <tbody>\n",
       "    <tr>\n",
       "      <th>0</th>\n",
       "      <td>196</td>\n",
       "      <td>242</td>\n",
       "      <td>3</td>\n",
       "      <td>881250949</td>\n",
       "    </tr>\n",
       "    <tr>\n",
       "      <th>1</th>\n",
       "      <td>186</td>\n",
       "      <td>302</td>\n",
       "      <td>3</td>\n",
       "      <td>891717742</td>\n",
       "    </tr>\n",
       "    <tr>\n",
       "      <th>2</th>\n",
       "      <td>22</td>\n",
       "      <td>377</td>\n",
       "      <td>1</td>\n",
       "      <td>878887116</td>\n",
       "    </tr>\n",
       "    <tr>\n",
       "      <th>3</th>\n",
       "      <td>244</td>\n",
       "      <td>51</td>\n",
       "      <td>2</td>\n",
       "      <td>880606923</td>\n",
       "    </tr>\n",
       "    <tr>\n",
       "      <th>4</th>\n",
       "      <td>166</td>\n",
       "      <td>346</td>\n",
       "      <td>1</td>\n",
       "      <td>886397596</td>\n",
       "    </tr>\n",
       "  </tbody>\n",
       "</table>\n",
       "</div>"
      ],
      "text/plain": [
       "   user_id  item_id  rating  timestamp\n",
       "0      196      242       3  881250949\n",
       "1      186      302       3  891717742\n",
       "2       22      377       1  878887116\n",
       "3      244       51       2  880606923\n",
       "4      166      346       1  886397596"
      ]
     },
     "execution_count": 4,
     "metadata": {
      "tags": []
     },
     "output_type": "execute_result"
    }
   ],
   "source": [
    "print(\"Data information\")\n",
    "data.head()"
   ]
  },
  {
   "cell_type": "markdown",
   "metadata": {
    "id": "RstTZq8ir_g_"
   },
   "source": [
    "**1- Quel est le nombre de films et d'utilisateurs du corpus ?**\n",
    "\n"
   ]
  },
  {
   "cell_type": "code",
   "execution_count": null,
   "metadata": {
    "id": "coyWs2GJr_hA",
    "outputId": "be65d795-6356-4780-900e-53f073daf5c4"
   },
   "outputs": [
    {
     "name": "stdout",
     "output_type": "stream",
     "text": [
      "Number of users :  943\n",
      "Number of movies :  1682\n"
     ]
    }
   ],
   "source": [
    "nb_users = data.user_id.unique().shape[0]\n",
    "nb_items = data.item_id.unique().shape[0]\n",
    "\n",
    "print(\"Number of users : \", nb_users)\n",
    "print(\"Number of movies : \", nb_items)"
   ]
  },
  {
   "cell_type": "markdown",
   "metadata": {
    "id": "pSe6nNCrr_hB"
   },
   "source": [
    "**2- Contruire la matrice d'utilité**"
   ]
  },
  {
   "cell_type": "code",
   "execution_count": null,
   "metadata": {
    "id": "K-5L5MjCr_hC",
    "outputId": "c6b9f0cf-5af7-4fd9-afae-fbbc5578db34"
   },
   "outputs": [
    {
     "data": {
      "text/html": [
       "<div>\n",
       "<style scoped>\n",
       "    .dataframe tbody tr th:only-of-type {\n",
       "        vertical-align: middle;\n",
       "    }\n",
       "\n",
       "    .dataframe tbody tr th {\n",
       "        vertical-align: top;\n",
       "    }\n",
       "\n",
       "    .dataframe thead th {\n",
       "        text-align: right;\n",
       "    }\n",
       "</style>\n",
       "<table border=\"1\" class=\"dataframe\">\n",
       "  <thead>\n",
       "    <tr style=\"text-align: right;\">\n",
       "      <th>item_id</th>\n",
       "      <th>1</th>\n",
       "      <th>2</th>\n",
       "      <th>3</th>\n",
       "      <th>4</th>\n",
       "      <th>5</th>\n",
       "      <th>6</th>\n",
       "      <th>7</th>\n",
       "      <th>8</th>\n",
       "      <th>9</th>\n",
       "      <th>10</th>\n",
       "      <th>...</th>\n",
       "      <th>1673</th>\n",
       "      <th>1674</th>\n",
       "      <th>1675</th>\n",
       "      <th>1676</th>\n",
       "      <th>1677</th>\n",
       "      <th>1678</th>\n",
       "      <th>1679</th>\n",
       "      <th>1680</th>\n",
       "      <th>1681</th>\n",
       "      <th>1682</th>\n",
       "    </tr>\n",
       "    <tr>\n",
       "      <th>user_id</th>\n",
       "      <th></th>\n",
       "      <th></th>\n",
       "      <th></th>\n",
       "      <th></th>\n",
       "      <th></th>\n",
       "      <th></th>\n",
       "      <th></th>\n",
       "      <th></th>\n",
       "      <th></th>\n",
       "      <th></th>\n",
       "      <th></th>\n",
       "      <th></th>\n",
       "      <th></th>\n",
       "      <th></th>\n",
       "      <th></th>\n",
       "      <th></th>\n",
       "      <th></th>\n",
       "      <th></th>\n",
       "      <th></th>\n",
       "      <th></th>\n",
       "      <th></th>\n",
       "    </tr>\n",
       "  </thead>\n",
       "  <tbody>\n",
       "    <tr>\n",
       "      <th>1</th>\n",
       "      <td>5.0</td>\n",
       "      <td>3.0</td>\n",
       "      <td>4.0</td>\n",
       "      <td>3.0</td>\n",
       "      <td>3.0</td>\n",
       "      <td>5.0</td>\n",
       "      <td>4.0</td>\n",
       "      <td>1.0</td>\n",
       "      <td>5.0</td>\n",
       "      <td>3.0</td>\n",
       "      <td>...</td>\n",
       "      <td>NaN</td>\n",
       "      <td>NaN</td>\n",
       "      <td>NaN</td>\n",
       "      <td>NaN</td>\n",
       "      <td>NaN</td>\n",
       "      <td>NaN</td>\n",
       "      <td>NaN</td>\n",
       "      <td>NaN</td>\n",
       "      <td>NaN</td>\n",
       "      <td>NaN</td>\n",
       "    </tr>\n",
       "    <tr>\n",
       "      <th>2</th>\n",
       "      <td>4.0</td>\n",
       "      <td>NaN</td>\n",
       "      <td>NaN</td>\n",
       "      <td>NaN</td>\n",
       "      <td>NaN</td>\n",
       "      <td>NaN</td>\n",
       "      <td>NaN</td>\n",
       "      <td>NaN</td>\n",
       "      <td>NaN</td>\n",
       "      <td>2.0</td>\n",
       "      <td>...</td>\n",
       "      <td>NaN</td>\n",
       "      <td>NaN</td>\n",
       "      <td>NaN</td>\n",
       "      <td>NaN</td>\n",
       "      <td>NaN</td>\n",
       "      <td>NaN</td>\n",
       "      <td>NaN</td>\n",
       "      <td>NaN</td>\n",
       "      <td>NaN</td>\n",
       "      <td>NaN</td>\n",
       "    </tr>\n",
       "    <tr>\n",
       "      <th>3</th>\n",
       "      <td>NaN</td>\n",
       "      <td>NaN</td>\n",
       "      <td>NaN</td>\n",
       "      <td>NaN</td>\n",
       "      <td>NaN</td>\n",
       "      <td>NaN</td>\n",
       "      <td>NaN</td>\n",
       "      <td>NaN</td>\n",
       "      <td>NaN</td>\n",
       "      <td>NaN</td>\n",
       "      <td>...</td>\n",
       "      <td>NaN</td>\n",
       "      <td>NaN</td>\n",
       "      <td>NaN</td>\n",
       "      <td>NaN</td>\n",
       "      <td>NaN</td>\n",
       "      <td>NaN</td>\n",
       "      <td>NaN</td>\n",
       "      <td>NaN</td>\n",
       "      <td>NaN</td>\n",
       "      <td>NaN</td>\n",
       "    </tr>\n",
       "    <tr>\n",
       "      <th>4</th>\n",
       "      <td>NaN</td>\n",
       "      <td>NaN</td>\n",
       "      <td>NaN</td>\n",
       "      <td>NaN</td>\n",
       "      <td>NaN</td>\n",
       "      <td>NaN</td>\n",
       "      <td>NaN</td>\n",
       "      <td>NaN</td>\n",
       "      <td>NaN</td>\n",
       "      <td>NaN</td>\n",
       "      <td>...</td>\n",
       "      <td>NaN</td>\n",
       "      <td>NaN</td>\n",
       "      <td>NaN</td>\n",
       "      <td>NaN</td>\n",
       "      <td>NaN</td>\n",
       "      <td>NaN</td>\n",
       "      <td>NaN</td>\n",
       "      <td>NaN</td>\n",
       "      <td>NaN</td>\n",
       "      <td>NaN</td>\n",
       "    </tr>\n",
       "    <tr>\n",
       "      <th>5</th>\n",
       "      <td>4.0</td>\n",
       "      <td>3.0</td>\n",
       "      <td>NaN</td>\n",
       "      <td>NaN</td>\n",
       "      <td>NaN</td>\n",
       "      <td>NaN</td>\n",
       "      <td>NaN</td>\n",
       "      <td>NaN</td>\n",
       "      <td>NaN</td>\n",
       "      <td>NaN</td>\n",
       "      <td>...</td>\n",
       "      <td>NaN</td>\n",
       "      <td>NaN</td>\n",
       "      <td>NaN</td>\n",
       "      <td>NaN</td>\n",
       "      <td>NaN</td>\n",
       "      <td>NaN</td>\n",
       "      <td>NaN</td>\n",
       "      <td>NaN</td>\n",
       "      <td>NaN</td>\n",
       "      <td>NaN</td>\n",
       "    </tr>\n",
       "  </tbody>\n",
       "</table>\n",
       "<p>5 rows × 1682 columns</p>\n",
       "</div>"
      ],
      "text/plain": [
       "item_id  1     2     3     4     5     6     7     8     9     10    ...  \\\n",
       "user_id                                                              ...   \n",
       "1         5.0   3.0   4.0   3.0   3.0   5.0   4.0   1.0   5.0   3.0  ...   \n",
       "2         4.0   NaN   NaN   NaN   NaN   NaN   NaN   NaN   NaN   2.0  ...   \n",
       "3         NaN   NaN   NaN   NaN   NaN   NaN   NaN   NaN   NaN   NaN  ...   \n",
       "4         NaN   NaN   NaN   NaN   NaN   NaN   NaN   NaN   NaN   NaN  ...   \n",
       "5         4.0   3.0   NaN   NaN   NaN   NaN   NaN   NaN   NaN   NaN  ...   \n",
       "\n",
       "item_id  1673  1674  1675  1676  1677  1678  1679  1680  1681  1682  \n",
       "user_id                                                              \n",
       "1         NaN   NaN   NaN   NaN   NaN   NaN   NaN   NaN   NaN   NaN  \n",
       "2         NaN   NaN   NaN   NaN   NaN   NaN   NaN   NaN   NaN   NaN  \n",
       "3         NaN   NaN   NaN   NaN   NaN   NaN   NaN   NaN   NaN   NaN  \n",
       "4         NaN   NaN   NaN   NaN   NaN   NaN   NaN   NaN   NaN   NaN  \n",
       "5         NaN   NaN   NaN   NaN   NaN   NaN   NaN   NaN   NaN   NaN  \n",
       "\n",
       "[5 rows x 1682 columns]"
      ]
     },
     "execution_count": 11,
     "metadata": {
      "tags": []
     },
     "output_type": "execute_result"
    }
   ],
   "source": [
    "movie_matrix = data.pivot_table(index='user_id', columns='item_id', values='rating')\n",
    "movie_matrix.head()"
   ]
  },
  {
   "cell_type": "markdown",
   "metadata": {
    "id": "x-7ufFdVr_hD"
   },
   "source": [
    "**3- Quelle est la note moyenne de chaque film ?**"
   ]
  },
  {
   "cell_type": "code",
   "execution_count": null,
   "metadata": {
    "id": "_NUkEuhEr_hE",
    "outputId": "9f985ae9-1d17-45e5-8b09-56736533c728"
   },
   "outputs": [
    {
     "data": {
      "text/html": [
       "<div>\n",
       "<style scoped>\n",
       "    .dataframe tbody tr th:only-of-type {\n",
       "        vertical-align: middle;\n",
       "    }\n",
       "\n",
       "    .dataframe tbody tr th {\n",
       "        vertical-align: top;\n",
       "    }\n",
       "\n",
       "    .dataframe thead th {\n",
       "        text-align: right;\n",
       "    }\n",
       "</style>\n",
       "<table border=\"1\" class=\"dataframe\">\n",
       "  <thead>\n",
       "    <tr style=\"text-align: right;\">\n",
       "      <th></th>\n",
       "      <th>rating</th>\n",
       "    </tr>\n",
       "    <tr>\n",
       "      <th>item_id</th>\n",
       "      <th></th>\n",
       "    </tr>\n",
       "  </thead>\n",
       "  <tbody>\n",
       "    <tr>\n",
       "      <th>1</th>\n",
       "      <td>3.878319</td>\n",
       "    </tr>\n",
       "    <tr>\n",
       "      <th>2</th>\n",
       "      <td>3.206107</td>\n",
       "    </tr>\n",
       "    <tr>\n",
       "      <th>3</th>\n",
       "      <td>3.033333</td>\n",
       "    </tr>\n",
       "    <tr>\n",
       "      <th>4</th>\n",
       "      <td>3.550239</td>\n",
       "    </tr>\n",
       "    <tr>\n",
       "      <th>5</th>\n",
       "      <td>3.302326</td>\n",
       "    </tr>\n",
       "  </tbody>\n",
       "</table>\n",
       "</div>"
      ],
      "text/plain": [
       "           rating\n",
       "item_id          \n",
       "1        3.878319\n",
       "2        3.206107\n",
       "3        3.033333\n",
       "4        3.550239\n",
       "5        3.302326"
      ]
     },
     "execution_count": 12,
     "metadata": {
      "tags": []
     },
     "output_type": "execute_result"
    }
   ],
   "source": [
    "ratings = pd.DataFrame(data.groupby('item_id')['rating'].mean())\n",
    "ratings.head()"
   ]
  },
  {
   "cell_type": "markdown",
   "metadata": {
    "id": "WcTUaGFQr_hF"
   },
   "source": [
    "**4- Visualisation de la distribution des notes**"
   ]
  },
  {
   "cell_type": "markdown",
   "metadata": {
    "id": "6ixezkgwr_hF"
   },
   "source": [
    "<div class=\"alert alert-block alert-danger\">\n",
    "<b>Warning: </b> if you did not install yet matplotlip, excute in a separate cell `!pip install matplotlib` \n",
    "</div>\n",
    "\n",
    "\n",
    "Remarque : `%matplotlib`configure la bibliothèque que vous allez utiliser pour dessiner le graphique. Elle effectue donc un certain nombre de traitements pour préparer l'affichage du graphique. Elle est souvent utilisée avec l'argument `inline`, qui indique que l'on va utiliser la bibliothèque intégrée à Notebook. \n",
    "\n",
    "Pour la fonction `hist()` des exemples [ici](https://www.science-emergence.com/Articles/Simple-histogramme-avec-matplotlib/)\n"
   ]
  },
  {
   "cell_type": "code",
   "execution_count": null,
   "metadata": {
    "id": "_2LMj4BTr_hF",
    "outputId": "3bacd7f4-e4e5-4e37-b9ba-ab2d240f7e99"
   },
   "outputs": [
    {
     "data": {
      "text/plain": [
       "<AxesSubplot:>"
      ]
     },
     "execution_count": 13,
     "metadata": {
      "tags": []
     },
     "output_type": "execute_result"
    },
    {
     "data": {
      "image/png": "[encoded data removed]",
      "text/plain": [
       "<Figure size 432x288 with 1 Axes>"
      ]
     },
     "metadata": {
      "needs_background": "light",
      "tags": []
     },
     "output_type": "display_data"
    }
   ],
   "source": [
    "# Attention ces instructions ne peuvent être executées sans la réalisation de la question 3. \n",
    "\n",
    "import matplotlib.pyplot as plt\n",
    "%matplotlib inline\n",
    "ratings['rating'].hist(bins=50)"
   ]
  },
  {
   "cell_type": "markdown",
   "metadata": {
    "id": "GdcZx9T_r_hG"
   },
   "source": [
    " **5- Quel est le nombre de notes pour chaque film ?**"
   ]
  },
  {
   "cell_type": "code",
   "execution_count": null,
   "metadata": {
    "id": "thSmwxgWr_hG",
    "outputId": "bd5acfae-8dc5-4f7c-cb54-08023e69d1a1"
   },
   "outputs": [
    {
     "data": {
      "text/html": [
       "<div>\n",
       "<style scoped>\n",
       "    .dataframe tbody tr th:only-of-type {\n",
       "        vertical-align: middle;\n",
       "    }\n",
       "\n",
       "    .dataframe tbody tr th {\n",
       "        vertical-align: top;\n",
       "    }\n",
       "\n",
       "    .dataframe thead th {\n",
       "        text-align: right;\n",
       "    }\n",
       "</style>\n",
       "<table border=\"1\" class=\"dataframe\">\n",
       "  <thead>\n",
       "    <tr style=\"text-align: right;\">\n",
       "      <th></th>\n",
       "      <th>rating</th>\n",
       "      <th>number_of_ratings</th>\n",
       "    </tr>\n",
       "    <tr>\n",
       "      <th>item_id</th>\n",
       "      <th></th>\n",
       "      <th></th>\n",
       "    </tr>\n",
       "  </thead>\n",
       "  <tbody>\n",
       "    <tr>\n",
       "      <th>1</th>\n",
       "      <td>3.878319</td>\n",
       "      <td>452</td>\n",
       "    </tr>\n",
       "    <tr>\n",
       "      <th>2</th>\n",
       "      <td>3.206107</td>\n",
       "      <td>131</td>\n",
       "    </tr>\n",
       "    <tr>\n",
       "      <th>3</th>\n",
       "      <td>3.033333</td>\n",
       "      <td>90</td>\n",
       "    </tr>\n",
       "    <tr>\n",
       "      <th>4</th>\n",
       "      <td>3.550239</td>\n",
       "      <td>209</td>\n",
       "    </tr>\n",
       "    <tr>\n",
       "      <th>5</th>\n",
       "      <td>3.302326</td>\n",
       "      <td>86</td>\n",
       "    </tr>\n",
       "  </tbody>\n",
       "</table>\n",
       "</div>"
      ],
      "text/plain": [
       "           rating  number_of_ratings\n",
       "item_id                             \n",
       "1        3.878319                452\n",
       "2        3.206107                131\n",
       "3        3.033333                 90\n",
       "4        3.550239                209\n",
       "5        3.302326                 86"
      ]
     },
     "execution_count": 14,
     "metadata": {
      "tags": []
     },
     "output_type": "execute_result"
    }
   ],
   "source": [
    "ratings['number_of_ratings'] = data.groupby('item_id')['rating'].count()\n",
    "ratings.head()"
   ]
  },
  {
   "cell_type": "markdown",
   "metadata": {
    "id": "F1yOTuGpr_hH"
   },
   "source": [
    "**6- Visualiser le nombre de notes pour chaque film (comme nous l'avons fait question 4)**"
   ]
  },
  {
   "cell_type": "code",
   "execution_count": null,
   "metadata": {
    "id": "LRErkSalr_hH",
    "outputId": "1c138a92-8a9f-463c-cdc4-b96c30ec227b"
   },
   "outputs": [
    {
     "data": {
      "text/plain": [
       "<AxesSubplot:>"
      ]
     },
     "execution_count": 15,
     "metadata": {
      "tags": []
     },
     "output_type": "execute_result"
    },
    {
     "data": {
      "image/png": "[encoded data removed]",
      "text/plain": [
       "<Figure size 432x288 with 1 Axes>"
      ]
     },
     "metadata": {
      "needs_background": "light",
      "tags": []
     },
     "output_type": "display_data"
    }
   ],
   "source": [
    "ratings['number_of_ratings'].hist(bins=60)"
   ]
  },
  {
   "cell_type": "code",
   "execution_count": null,
   "metadata": {
    "id": "_7opPNBOr_hI",
    "outputId": "ed6de33f-1fc1-4240-f52a-28164796b222"
   },
   "outputs": [
    {
     "name": "stderr",
     "output_type": "stream",
     "text": [
      "/anaconda3/lib/python3.6/site-packages/scipy/stats/stats.py:1713: FutureWarning: Using a non-tuple sequence for multidimensional indexing is deprecated; use `arr[tuple(seq)]` instead of `arr[seq]`. In the future this will be interpreted as an array index, `arr[np.array(seq)]`, which will result either in an error or a different result.\n",
      "  return np.add.reduce(sorted[indexer] * weights, axis=axis) / sumval\n",
      "/anaconda3/lib/python3.6/site-packages/matplotlib/axes/_axes.py:6462: UserWarning: The 'normed' kwarg is deprecated, and has been replaced by the 'density' kwarg.\n",
      "  warnings.warn(\"The 'normed' kwarg is deprecated, and has been \"\n",
      "/anaconda3/lib/python3.6/site-packages/matplotlib/axes/_axes.py:6462: UserWarning: The 'normed' kwarg is deprecated, and has been replaced by the 'density' kwarg.\n",
      "  warnings.warn(\"The 'normed' kwarg is deprecated, and has been \"\n"
     ]
    },
    {
     "data": {
      "text/plain": [
       "<seaborn.axisgrid.JointGrid at 0x118ace400>"
      ]
     },
     "execution_count": 14,
     "metadata": {
      "tags": []
     },
     "output_type": "execute_result"
    },
    {
     "data": {
      "image/png": "[encoded data removed]",
      "text/plain": [
       "<Figure size 432x432 with 3 Axes>"
      ]
     },
     "metadata": {
      "tags": []
     },
     "output_type": "display_data"
    }
   ],
   "source": [
    "import seaborn as sns\n",
    "sns.jointplot(x='rating', y='number_of_ratings', data=ratings)"
   ]
  },
  {
   "cell_type": "markdown",
   "metadata": {
    "id": "oxMuCnwVr_hI"
   },
   "source": [
    "## Système de recommandation\n",
    "\n",
    "### Préparation de l'évaluation\n",
    "\n",
    "Une première phase dans le problème de prédiction de la recommandation est de préparer l'étape d'évaluation de votre système de recommandationn en séparant l'ensemble de données en  un ensemble de test et en un ensemble d'apprentissage. \n",
    "\n",
    "<center><img src='https://drive.google.com/uc?export=view&id=1i6nY-QOBnZAyWr5dlQraDHHToZLbgqU7' width=300></center>\n",
    "\n",
    "\n",
    "- L'ensemble d'apprentissage sera utilisé pour construire la matrice d'utilité, calculer le score de similarité et faire la prédiction. \n",
    "- L'ensemble de test sera utilisé dans la phase d'évaluation.\n"
   ]
  },
  {
   "cell_type": "markdown",
   "metadata": {
    "id": "WWxnqqFDr_hJ"
   },
   "source": [
    "<div class=\"alert alert-block alert-danger\">\n",
    "<b>Warning: </b> if you did not install yet sklearn, excute in a separate cell `!pip install sklearn`\n",
    "</div> "
   ]
  },
  {
   "cell_type": "code",
   "execution_count": null,
   "metadata": {
    "id": "99xAqFG4vfyg",
    "outputId": "56387345-d883-4fe9-9fbf-46f7014153b5"
   },
   "outputs": [
    {
     "name": "stdout",
     "output_type": "stream",
     "text": [
      "Collecting sklearn\n",
      "  Using cached sklearn-0.0.tar.gz (1.1 kB)\n",
      "Collecting scikit-learn\n",
      "  Downloading scikit_learn-0.24.2-cp39-cp39-macosx_10_13_x86_64.whl (7.3 MB)\n",
      "\u001b[K     |████████████████████████████████| 7.3 MB 4.2 MB/s eta 0:00:01     |███████████████████████████████▉| 7.3 MB 4.2 MB/s eta 0:00:01\n",
      "\u001b[?25hRequirement already satisfied: joblib>=0.11 in /Library/Frameworks/Python.framework/Versions/3.9/lib/python3.9/site-packages (from scikit-learn->sklearn) (1.0.1)\n",
      "Requirement already satisfied: scipy>=0.19.1 in /Library/Frameworks/Python.framework/Versions/3.9/lib/python3.9/site-packages (from scikit-learn->sklearn) (1.6.3)\n",
      "Requirement already satisfied: numpy>=1.13.3 in /Library/Frameworks/Python.framework/Versions/3.9/lib/python3.9/site-packages (from scikit-learn->sklearn) (1.20.2)\n",
      "Collecting threadpoolctl>=2.0.0\n",
      "  Downloading threadpoolctl-2.1.0-py3-none-any.whl (12 kB)\n",
      "Using legacy 'setup.py install' for sklearn, since package 'wheel' is not installed.\n",
      "Installing collected packages: threadpoolctl, scikit-learn, sklearn\n",
      "    Running setup.py install for sklearn ... \u001b[?25ldone\n",
      "\u001b[?25hSuccessfully installed scikit-learn-0.24.2 sklearn-0.0 threadpoolctl-2.1.0\n"
     ]
    }
   ],
   "source": [
    "!pip install sklearn"
   ]
  },
  {
   "cell_type": "markdown",
   "metadata": {
    "id": "NCwqFmpXr_hJ"
   },
   "source": [
    "**Séparons nos données `data` en deux sous ensembles : un ensemble d'apprentissage et un ensemble de test. On prendra par exemple une taille d'ensemble de test de $0.25$**.\n",
    "\n",
    "Indication : on fera appel à la fonction `model_selection()` dont la documentation se trouve [ici](https://scikit-learn.org/stable/modules/generated/sklearn.model_selection.train_test_split.html)"
   ]
  },
  {
   "cell_type": "code",
   "execution_count": null,
   "metadata": {
    "id": "fN1Xvwwar_hK"
   },
   "outputs": [],
   "source": [
    "from sklearn import model_selection \n",
    "\n",
    "# TO COMPLETE\n",
    "train_data, test_data = model_selection.train_test_split(data, test_size=0.25)"
   ]
  },
  {
   "cell_type": "code",
   "execution_count": null,
   "metadata": {
    "id": "73Qkxqsyr_hK",
    "outputId": "b731e893-ab72-4e6b-a11f-2ecb6bea6b9c"
   },
   "outputs": [
    {
     "name": "stdout",
     "output_type": "stream",
     "text": [
      "Taindata\n",
      "\n",
      "       user_id  item_id  rating  timestamp\n",
      "25971      409      483       4  881107602\n",
      "38288      356     1294       4  891405721\n",
      "2413       131      100       5  883681418\n",
      "36538      104      405       3  888466028\n",
      "90356      731      494       3  886179161\n"
     ]
    }
   ],
   "source": [
    "print(\"Taindata\\n\")\n",
    "print(train_data.head())"
   ]
  },
  {
   "cell_type": "code",
   "execution_count": null,
   "metadata": {
    "id": "ETWGLJjer_hK",
    "outputId": "4edd5312-48aa-4f46-e702-f92718962448"
   },
   "outputs": [
    {
     "name": "stdout",
     "output_type": "stream",
     "text": [
      "test_data        user_id  item_id  rating  timestamp\n",
      "90801      463      286       4  877387935\n",
      "53639      407      135       3  875119886\n",
      "73039      503      496       5  880472474\n",
      "29359      533       82       4  879439204\n",
      "77813      936      268       4  886831415\n"
     ]
    }
   ],
   "source": [
    "print(\"test_data\", test_data.head())"
   ]
  },
  {
   "cell_type": "markdown",
   "metadata": {
    "id": "YSAGByA3r_hL"
   },
   "source": [
    "### Approche par voisinage (user-item, Memory-based)\n",
    "\n",
    "Il s'agit d'implémenter la méthode de filtrage collaboratif par voisinage **user-item** en suivant les étapes qui suivent.\n"
   ]
  },
  {
   "cell_type": "markdown",
   "metadata": {
    "id": "3nlrzBYWr_hN"
   },
   "source": [
    "### Etape 1 : \n",
    "\n",
    "**a- Construire la matrice user-item à partir de l'ensemble des données. (Cela vous permettra de visualiser le contenu des données qui sont considérées pour l'apprentissage.)** \n",
    "\n",
    "Attention : on utilisera la matrice `train_data`."
   ]
  },
  {
   "cell_type": "code",
   "execution_count": null,
   "metadata": {
    "id": "R0Er6z58r_hW",
    "outputId": "72017322-adf4-4386-dd01-ebf062ce6bc8"
   },
   "outputs": [
    {
     "data": {
      "text/html": [
       "<div>\n",
       "<style scoped>\n",
       "    .dataframe tbody tr th:only-of-type {\n",
       "        vertical-align: middle;\n",
       "    }\n",
       "\n",
       "    .dataframe tbody tr th {\n",
       "        vertical-align: top;\n",
       "    }\n",
       "\n",
       "    .dataframe thead th {\n",
       "        text-align: right;\n",
       "    }\n",
       "</style>\n",
       "<table border=\"1\" class=\"dataframe\">\n",
       "  <thead>\n",
       "    <tr style=\"text-align: right;\">\n",
       "      <th>item_id</th>\n",
       "      <th>1</th>\n",
       "      <th>2</th>\n",
       "      <th>3</th>\n",
       "      <th>4</th>\n",
       "      <th>5</th>\n",
       "      <th>6</th>\n",
       "      <th>7</th>\n",
       "      <th>8</th>\n",
       "      <th>9</th>\n",
       "      <th>10</th>\n",
       "      <th>...</th>\n",
       "      <th>1671</th>\n",
       "      <th>1672</th>\n",
       "      <th>1673</th>\n",
       "      <th>1674</th>\n",
       "      <th>1675</th>\n",
       "      <th>1676</th>\n",
       "      <th>1677</th>\n",
       "      <th>1679</th>\n",
       "      <th>1680</th>\n",
       "      <th>1682</th>\n",
       "    </tr>\n",
       "    <tr>\n",
       "      <th>user_id</th>\n",
       "      <th></th>\n",
       "      <th></th>\n",
       "      <th></th>\n",
       "      <th></th>\n",
       "      <th></th>\n",
       "      <th></th>\n",
       "      <th></th>\n",
       "      <th></th>\n",
       "      <th></th>\n",
       "      <th></th>\n",
       "      <th></th>\n",
       "      <th></th>\n",
       "      <th></th>\n",
       "      <th></th>\n",
       "      <th></th>\n",
       "      <th></th>\n",
       "      <th></th>\n",
       "      <th></th>\n",
       "      <th></th>\n",
       "      <th></th>\n",
       "      <th></th>\n",
       "    </tr>\n",
       "  </thead>\n",
       "  <tbody>\n",
       "    <tr>\n",
       "      <th>1</th>\n",
       "      <td>5.0</td>\n",
       "      <td>NaN</td>\n",
       "      <td>4.0</td>\n",
       "      <td>3.0</td>\n",
       "      <td>3.0</td>\n",
       "      <td>5.0</td>\n",
       "      <td>4.0</td>\n",
       "      <td>1.0</td>\n",
       "      <td>5.0</td>\n",
       "      <td>NaN</td>\n",
       "      <td>...</td>\n",
       "      <td>NaN</td>\n",
       "      <td>NaN</td>\n",
       "      <td>NaN</td>\n",
       "      <td>NaN</td>\n",
       "      <td>NaN</td>\n",
       "      <td>NaN</td>\n",
       "      <td>NaN</td>\n",
       "      <td>NaN</td>\n",
       "      <td>NaN</td>\n",
       "      <td>NaN</td>\n",
       "    </tr>\n",
       "    <tr>\n",
       "      <th>2</th>\n",
       "      <td>4.0</td>\n",
       "      <td>NaN</td>\n",
       "      <td>NaN</td>\n",
       "      <td>NaN</td>\n",
       "      <td>NaN</td>\n",
       "      <td>NaN</td>\n",
       "      <td>NaN</td>\n",
       "      <td>NaN</td>\n",
       "      <td>NaN</td>\n",
       "      <td>2.0</td>\n",
       "      <td>...</td>\n",
       "      <td>NaN</td>\n",
       "      <td>NaN</td>\n",
       "      <td>NaN</td>\n",
       "      <td>NaN</td>\n",
       "      <td>NaN</td>\n",
       "      <td>NaN</td>\n",
       "      <td>NaN</td>\n",
       "      <td>NaN</td>\n",
       "      <td>NaN</td>\n",
       "      <td>NaN</td>\n",
       "    </tr>\n",
       "    <tr>\n",
       "      <th>3</th>\n",
       "      <td>NaN</td>\n",
       "      <td>NaN</td>\n",
       "      <td>NaN</td>\n",
       "      <td>NaN</td>\n",
       "      <td>NaN</td>\n",
       "      <td>NaN</td>\n",
       "      <td>NaN</td>\n",
       "      <td>NaN</td>\n",
       "      <td>NaN</td>\n",
       "      <td>NaN</td>\n",
       "      <td>...</td>\n",
       "      <td>NaN</td>\n",
       "      <td>NaN</td>\n",
       "      <td>NaN</td>\n",
       "      <td>NaN</td>\n",
       "      <td>NaN</td>\n",
       "      <td>NaN</td>\n",
       "      <td>NaN</td>\n",
       "      <td>NaN</td>\n",
       "      <td>NaN</td>\n",
       "      <td>NaN</td>\n",
       "    </tr>\n",
       "    <tr>\n",
       "      <th>4</th>\n",
       "      <td>NaN</td>\n",
       "      <td>NaN</td>\n",
       "      <td>NaN</td>\n",
       "      <td>NaN</td>\n",
       "      <td>NaN</td>\n",
       "      <td>NaN</td>\n",
       "      <td>NaN</td>\n",
       "      <td>NaN</td>\n",
       "      <td>NaN</td>\n",
       "      <td>NaN</td>\n",
       "      <td>...</td>\n",
       "      <td>NaN</td>\n",
       "      <td>NaN</td>\n",
       "      <td>NaN</td>\n",
       "      <td>NaN</td>\n",
       "      <td>NaN</td>\n",
       "      <td>NaN</td>\n",
       "      <td>NaN</td>\n",
       "      <td>NaN</td>\n",
       "      <td>NaN</td>\n",
       "      <td>NaN</td>\n",
       "    </tr>\n",
       "    <tr>\n",
       "      <th>5</th>\n",
       "      <td>4.0</td>\n",
       "      <td>3.0</td>\n",
       "      <td>NaN</td>\n",
       "      <td>NaN</td>\n",
       "      <td>NaN</td>\n",
       "      <td>NaN</td>\n",
       "      <td>NaN</td>\n",
       "      <td>NaN</td>\n",
       "      <td>NaN</td>\n",
       "      <td>NaN</td>\n",
       "      <td>...</td>\n",
       "      <td>NaN</td>\n",
       "      <td>NaN</td>\n",
       "      <td>NaN</td>\n",
       "      <td>NaN</td>\n",
       "      <td>NaN</td>\n",
       "      <td>NaN</td>\n",
       "      <td>NaN</td>\n",
       "      <td>NaN</td>\n",
       "      <td>NaN</td>\n",
       "      <td>NaN</td>\n",
       "    </tr>\n",
       "  </tbody>\n",
       "</table>\n",
       "<p>5 rows × 1640 columns</p>\n",
       "</div>"
      ],
      "text/plain": [
       "item_id  1     2     3     4     5     6     7     8     9     10    ...  \\\n",
       "user_id                                                              ...   \n",
       "1         5.0   NaN   4.0   3.0   3.0   5.0   4.0   1.0   5.0   NaN  ...   \n",
       "2         4.0   NaN   NaN   NaN   NaN   NaN   NaN   NaN   NaN   2.0  ...   \n",
       "3         NaN   NaN   NaN   NaN   NaN   NaN   NaN   NaN   NaN   NaN  ...   \n",
       "4         NaN   NaN   NaN   NaN   NaN   NaN   NaN   NaN   NaN   NaN  ...   \n",
       "5         4.0   3.0   NaN   NaN   NaN   NaN   NaN   NaN   NaN   NaN  ...   \n",
       "\n",
       "item_id  1671  1672  1673  1674  1675  1676  1677  1679  1680  1682  \n",
       "user_id                                                              \n",
       "1         NaN   NaN   NaN   NaN   NaN   NaN   NaN   NaN   NaN   NaN  \n",
       "2         NaN   NaN   NaN   NaN   NaN   NaN   NaN   NaN   NaN   NaN  \n",
       "3         NaN   NaN   NaN   NaN   NaN   NaN   NaN   NaN   NaN   NaN  \n",
       "4         NaN   NaN   NaN   NaN   NaN   NaN   NaN   NaN   NaN   NaN  \n",
       "5         NaN   NaN   NaN   NaN   NaN   NaN   NaN   NaN   NaN   NaN  \n",
       "\n",
       "[5 rows x 1640 columns]"
      ]
     },
     "execution_count": 20,
     "metadata": {
      "tags": []
     },
     "output_type": "execute_result"
    }
   ],
   "source": [
    "\n",
    "\n",
    "movie_matrix = train_data.pivot_table(index='user_id', columns='item_id', values='rating')\n",
    "movie_matrix.head()"
   ]
  },
  {
   "cell_type": "markdown",
   "metadata": {
    "id": "nChYwhqCr_hX"
   },
   "source": [
    "**b- Constuire la matrice contenant que les notes ou les évaluations des différents items. On appelera cette matrice train_data_matrix. C'est cette matrice qui sera utilisée par la suite pour faire nos calculs de similarités et de prédictions.**\n",
    "\n",
    "Attention : on utilisera la matrice `train_data`."
   ]
  },
  {
   "cell_type": "code",
   "execution_count": null,
   "metadata": {
    "id": "jM89GJWmr_hZ",
    "outputId": "33ad47f1-efec-48cb-ce3a-957601bb9d30"
   },
   "outputs": [
    {
     "name": "stdout",
     "output_type": "stream",
     "text": [
      "[[5. 0. 4. ... 0. 0. 0.]\n",
      " [4. 0. 0. ... 0. 0. 0.]\n",
      " [0. 0. 0. ... 0. 0. 0.]\n",
      " ...\n",
      " [5. 0. 0. ... 0. 0. 0.]\n",
      " [0. 0. 0. ... 0. 0. 0.]\n",
      " [0. 0. 0. ... 0. 0. 0.]]\n"
     ]
    }
   ],
   "source": [
    "import numpy as np\n",
    "\n",
    "train_data_matrix = np.zeros((nb_users, nb_items))\n",
    "for line in train_data.itertuples():\n",
    "    #print(line[3])\n",
    "    train_data_matrix[line[1]-1, line[2]-1] = line[3]\n",
    "\n",
    "print(train_data_matrix)\n"
   ]
  },
  {
   "cell_type": "markdown",
   "metadata": {
    "id": "Q8_CY2sJr_ha"
   },
   "source": [
    "**c- Construire la matrice de test contenant que les évalaution (ou les notations) des différents items. On appelara cette matrice `test_data_matrix`. C'est cette matrice qui sera utilisée par la suite dans la phase évaluation**. "
   ]
  },
  {
   "cell_type": "code",
   "execution_count": null,
   "metadata": {
    "id": "QJEA97w0r_ha",
    "outputId": "f235457a-7346-44a2-b741-173ad9bb9bf5"
   },
   "outputs": [
    {
     "name": "stdout",
     "output_type": "stream",
     "text": [
      "[[0. 3. 0. ... 0. 0. 0.]\n",
      " [0. 0. 0. ... 0. 0. 0.]\n",
      " [0. 0. 0. ... 0. 0. 0.]\n",
      " ...\n",
      " [0. 0. 0. ... 0. 0. 0.]\n",
      " [0. 0. 0. ... 0. 0. 0.]\n",
      " [0. 5. 0. ... 0. 0. 0.]]\n"
     ]
    }
   ],
   "source": [
    "test_data_matrix = np.zeros((nb_users, nb_items))\n",
    "for line in test_data.itertuples():\n",
    "    test_data_matrix[line[1]-1, line[2]-1] = line[3]\n",
    "\n",
    "print(test_data_matrix)"
   ]
  },
  {
   "cell_type": "markdown",
   "metadata": {
    "id": "XDjOYMJRr_hb"
   },
   "source": [
    "#### Etape 2 : Construire et Calculer la matrice de similarité entre utilisateurs. \n",
    "\n",
    "On utilisera pour cela la mesure **cosinus** :\n",
    "\n",
    "$$sim(x,y) = cos (r_x,r_y) = \\frac{r_x.r_y}{||r_x||.||r_y||}$$\n",
    "\n",
    "\n",
    "(on pourra utiliser pour cela la méthode **pairwise\\_distances** de scikit-learn documentée [ici](http://scikit-learn.org/stable/modules/generated/sklearn.metrics.pairwise.pairwise_distances.html)). \n"
   ]
  },
  {
   "cell_type": "code",
   "execution_count": null,
   "metadata": {
    "id": "xubLYtbXr_hb"
   },
   "outputs": [],
   "source": [
    "from sklearn.metrics.pairwise import pairwise_distances\n",
    "\n",
    "\n",
    "user_similarity = pairwise_distances(train_data_matrix, metric='cosine')\n"
   ]
  },
  {
   "cell_type": "code",
   "execution_count": null,
   "metadata": {
    "id": "NK_t724pr_hc",
    "outputId": "58d3e8c2-b1c6-44e1-ce58-9025f16bc9c0"
   },
   "outputs": [
    {
     "name": "stdout",
     "output_type": "stream",
     "text": [
      "[[0.         0.8525451  0.95230791 ... 0.89441235 0.87582434 0.73652168]\n",
      " [0.8525451  0.         0.91635091 ... 0.84190719 0.87777518 0.94822225]\n",
      " [0.95230791 0.91635091 0.         ... 0.87511083 0.88570738 0.9638483 ]\n",
      " ...\n",
      " [0.89441235 0.84190719 0.87511083 ... 0.         0.88034137 0.91062439]\n",
      " [0.87582434 0.87777518 0.88570738 ... 0.88034137 0.         0.85604555]\n",
      " [0.73652168 0.94822225 0.9638483  ... 0.91062439 0.85604555 0.        ]]\n"
     ]
    }
   ],
   "source": [
    "print(user_similarity)"
   ]
  },
  {
   "cell_type": "markdown",
   "metadata": {
    "id": "lkgTaezdr_hc"
   },
   "source": [
    "<div class=\"alert alert-block alert-danger\">\n",
    "<b>Conseil : </b> terminer en premier le travail avec la mesure cosinus. Une fois la fonction de prédiction mise en place et que celle-ci fonctionne vous pouvez revenir pour écrire la\n",
    "    fonction de similarité avec Pearson et la tester ensuite avec la fonction de prédiction. \n",
    "</div>"
   ]
  },
  {
   "cell_type": "markdown",
   "metadata": {
    "id": "FJcdRnJ-r_hd"
   },
   "source": [
    "**Faire le même travail avec la mesure de corrélation de Pearson comme mesure de similarité entre les différents vecteurs de notes et définie comme, étant donnés deux utilisateurs $x$ et $y$ :**\n",
    "\n",
    "$$ sim(x,y) = \\frac{\\sum_{s \\in S_{xy}} (r_{xs} - \\overline{r_x})(r_{ys} - \\overline{r_y}) }{ \\sqrt{\\sum_{s \\in S_{xy}} (r_{xs} - \\overline{r_x})^2}   \\sqrt{\\sum_{s \\in S_{xy}} (r_{ys} - \\overline{r_y})^2}  }$$\n",
    "\n",
    "avec $\\overline{r_y}$ et  $\\overline{r_x}$ la notation moyenne de $x$ et $y$.\n",
    "\n",
    "Calculer cette métrique pour chaque paire d'utilisateurs dans la base de données.\n",
    "\n",
    "\n",
    "**Remarque**: `pearsonr()` da la bibliothèque `stats` retourne un deux-tuple composé du coefficient de corrélation et de la p-valeur:\n",
    "\n",
    "Le coefficient de corrélation peut varier de -1 à +1.L'hypothèse nulle est que les deux variables ne sont pas corrélées. La valeur de $p$ est un nombre compris entre zéro et celui qui représente la probabilité que vos données se serait produites si l'hypothèse nulle était vraie.\n",
    "Pour plus de détails, voir http://www.eecs.qmul.ac.uk/~norman/blog_articles/p_values.pdf"
   ]
  },
  {
   "cell_type": "code",
   "execution_count": null,
   "metadata": {
    "id": "WD7IIOArr_he",
    "outputId": "6a53c204-151c-4555-bc15-9760aa215e63"
   },
   "outputs": [
    {
     "data": {
      "text/plain": [
       "0.8660254037844386"
      ]
     },
     "execution_count": 23,
     "metadata": {
      "tags": []
     },
     "output_type": "execute_result"
    }
   ],
   "source": [
    "#Exemple\n",
    "from scipy import stats\n",
    "import numpy as np\n",
    "\n",
    "a = np.array([0, 0, 0, 1, 1, 1, 1])\n",
    "b = np.arange(7)\n",
    "stats.pearsonr(a, b)[0]"
   ]
  },
  {
   "cell_type": "code",
   "execution_count": null,
   "metadata": {
    "id": "OR2ecRltr_hf"
   },
   "outputs": [],
   "source": [
    "from scipy import stats\n",
    "# TO COMPLETE"
   ]
  },
  {
   "cell_type": "markdown",
   "metadata": {
    "id": "R2NOmqhMr_hf"
   },
   "source": [
    "### Etape 3 :  Construire la matrice de prédictions en utilisant la formule suivante.\n",
    "\n",
    "La note de l'utilisateur $x$ sur l'élément $i$ est calculée comme :\n",
    "\n",
    "$$ r_{xi} = \\overline{r_x} + \\frac{\\sum_{y \\in N} sim(x,y) (r_{yi} -\\overline{r_y})}{\\sum_{y \\in N} | sim(x,y)|}$$\n",
    "\n",
    "\n",
    "Avec: $\\overline{r}_x$ la note moyenne de l'utilisateur $x$ et $r_{yi}$ la note de l'utilisateur $y$ qui a jugé $i$.\n",
    "\n",
    "\n"
   ]
  },
  {
   "cell_type": "markdown",
   "metadata": {
    "id": "Bce1Vhnfr_hf"
   },
   "source": [
    "**Ecrire la fonction `predict(ratings, similarity, type='user')` qui prendra en entrée les évaluations, la matrice de similarités et un troisième argument qui est `type='user'`. Il est intéressant de le considérer pour pourvoir réutiliser la fonction dans l'approche par modèles en mettant `type='item'`.** \n",
    "\n",
    "**Encore une fois vous pouvez écrire simplement la fonction `predict(ratings, similarity)` qui retournera à la fin la matrice de prédictions des différents items pour les différents utilisateurs.**"
   ]
  },
  {
   "cell_type": "code",
   "execution_count": null,
   "metadata": {
    "id": "6usiXMv6r_hg"
   },
   "outputs": [],
   "source": [
    "def predict(ratings, similarity, type='user'):\n",
    "    \n",
    "    if type == 'user':\n",
    "        print(len(ratings[1]))\n",
    "        mean_user_rating = ratings.mean(axis=1)\n",
    "        #You use np.newaxis so that mean_user_rating has same format as ratings\n",
    "        ratings_diff = (ratings - mean_user_rating[:, np.newaxis])\n",
    "        pred = mean_user_rating[:, np.newaxis] + similarity.dot(ratings_diff) / np.array([np.abs(similarity).sum(axis=1)]).T\n",
    "    elif type == 'item':\n",
    "        pred = ratings.dot(similarity) / np.array([np.abs(similarity).sum(axis=1)])\n",
    "    return pred"
   ]
  },
  {
   "cell_type": "code",
   "execution_count": null,
   "metadata": {
    "id": "-9rf8v2Zr_hg",
    "outputId": "729f51f5-9d8d-40da-c269-dd2f08a8b5bf"
   },
   "outputs": [
    {
     "name": "stdout",
     "output_type": "stream",
     "text": [
      "1682\n",
      "[4. 0. 0. ... 0. 0. 0.]\n",
      "ici [0.4334126  0.10939358 0.07431629 0.04994055 0.21046373 0.35077289\n",
      " 0.71403092 0.09036861 0.04340071 0.33709869 0.27526754 0.08382878\n",
      " 0.85136742 0.18489893 0.12306778 0.25505351 0.039239   0.50178359\n",
      " 0.03626635 0.06123662 0.19619501 0.21046373 0.25267539 0.12722949\n",
      " 0.13674197 0.13971463 0.03745541 0.13555291 0.06539834 0.07431629\n",
      " 0.06064209 0.0529132  0.039239   0.03686088 0.03210464 0.03983353\n",
      " 0.09631391 0.20095125 0.04458977 0.04399524 0.08442331 0.30618312\n",
      " 0.37871581 0.24673008 0.07728894 0.05826397 0.0451843  0.1117717\n",
      " 0.26159334 0.03983353 0.03388823 0.117717   0.0529132  0.11593341\n",
      " 0.03032105 0.32045184 0.1706302  0.24732461 0.63436385 0.39714625\n",
      " 0.02972652 0.33947681 0.14209275 0.32758621 0.13674197 0.06183115\n",
      " 0.04340071 0.05053508 0.10107015 0.20927467 0.06718193 0.23127229\n",
      " 0.11117717 0.04756243 0.09988109 0.12425684 0.12009512 0.03032105\n",
      " 0.11296076 0.04994055 0.0921522  0.23483948 0.22294887 0.1254459\n",
      " 0.4803805  0.03567182 0.35790725 0.04458977 0.1313912  0.57550535\n",
      " 0.17419738 0.53626635 0.03269917 0.63674197 0.42687277 0.1117717\n",
      " 0.11533888 0.04756243 0.1843044  0.08739596 0.08739596 0.2372176\n",
      " 0.03864447 0.13555291 0.03567182 0.10047562 0.0196195  0.04042806\n",
      " 0.38585018 0.18965517 0.0196195  0.08501784 0.078478   0.07966706\n",
      " 0.17360285 0.1979786  0.15219976 0.1254459  0.3216409  0.04221165\n",
      " 0.09631391 0.10047562 0.10166468 0.02675386 0.2960761  0.06183115\n",
      " 0.04221165 0.28894174 0.03448276 0.64744352 0.0451843  0.03626635\n",
      " 0.02675386 0.03804994 0.07669441 0.0648038  0.08145065 0.09631391\n",
      " 0.04399524 0.03686088 0.17181926 0.04815696 0.02913199 0.32223543\n",
      " 0.47265161 0.04577883 0.04221165 0.11593341 0.039239   0.04042806\n",
      " 0.54399524 0.19203329 0.02853746 0.08501784 0.02259215 0.05707491\n",
      " 0.08501784 0.30618312 0.17538644 0.24494649 0.06242568 0.0665874\n",
      " 0.0332937  0.11533888 0.0588585  0.02734839 0.11296076 0.09869203\n",
      " 0.07193817 0.03745541 0.04458977 0.03567182 0.08204518 0.29072533\n",
      " 0.06183115 0.10285375 0.17598098 0.4530321  0.05172414 0.10285375\n",
      " 0.28834721 0.04815696 0.07193817 0.40368609 0.08561237 0.1510107\n",
      " 0.09571938 0.17241379 0.32223543 0.09036861 0.04875149 0.05112961\n",
      " 0.1510107  0.39179548 0.14209275 0.0648038  0.16944114 0.26218787\n",
      " 0.03983353 0.41736029 0.52853746 0.02972652 0.0648038  0.06956005\n",
      " 0.02615933 0.06718193 0.32580262 0.05945303 0.05053508 0.21462545\n",
      " 0.05112961 0.039239   0.23662307 0.22889417 0.14328181 0.22592152\n",
      " 0.10166468 0.09453032 0.04577883 0.03686088 0.2508918  0.54815696\n",
      " 0.13852556 0.21878716 0.0588585  0.08501784 0.09155767 0.02913199\n",
      " 0.03745541 0.23365042 0.03151011 0.14803805 0.20630202 0.67598098\n",
      " 0.15992866 0.19678954 0.09274673 0.04994055 0.30023781 0.04161712\n",
      " 0.03626635 0.03626635 0.13495838 0.38466112 0.03507729 0.25921522\n",
      " 0.05231867 0.08323424 0.30321046 0.2039239  0.13317479 0.04161712\n",
      " 0.1902497  0.22473246 0.08501784 0.37098692 0.09631391 0.04458977\n",
      " 0.08501784 0.04756243 0.04399524 0.21581451 0.19560048 0.23067776\n",
      " 0.08442331 0.0332937  0.31034483 0.44292509 0.41557669 0.27348395\n",
      " 0.45005945 0.10047562 0.0332937  0.12068966 0.12485137 0.79429251\n",
      " 0.08977408 0.03388823 0.60285375 0.41260404 0.03151011 0.03269917\n",
      " 0.10285375 0.07312723 0.05766944 0.50118906 0.10404281 0.1254459\n",
      " 0.0332937  0.22592152 0.49167658 0.22592152 0.5        0.2294887\n",
      " 0.39001189 0.27348395 0.28180737 0.2175981  0.421522   0.03983353\n",
      " 0.42449465 0.02318668 0.75148633 0.03388823 0.3549346  0.04637337\n",
      " 0.18549346 0.65398335 0.03507729 0.04102259 0.4744352  0.43816885\n",
      " 0.3882283  0.4137931  0.15636147 0.12068966 0.02259215 0.29785969\n",
      " 0.03626635 0.26337693 0.19560048 0.09571938 0.14565993 0.10701546\n",
      " 0.22057075 0.3020214  0.42211653 0.43281807 0.09393579 0.28180737\n",
      " 0.10760999 0.31807372 0.04934602 0.52734839 0.03983353 0.16111772\n",
      " 0.05945303 0.13555291 0.47384067 0.08145065 0.03745541 0.31272295\n",
      " 0.40368609 0.32461356 0.3941736  0.28537455 0.31747919 0.1058264\n",
      " 0.06361474 0.09036861 0.07728894 0.07728894 0.03210464 0.37158145\n",
      " 0.03983353 0.03745541 0.12841855 0.06539834 0.04934602 0.17419738\n",
      " 0.19678954 0.03507729 0.41498216 0.03448276 0.08382878 0.07134364\n",
      " 0.11831153 0.06896552 0.04815696 0.11890606 0.09393579 0.12306778\n",
      " 0.39298454 0.43460166 0.03567182 0.04340071 0.0648038  0.54875149\n",
      " 0.3686088  0.21105826 0.22532699 0.08977408 0.12960761 0.04399524\n",
      " 0.39833532 0.03686088 0.46492271 0.10344828 0.45422117 0.06064209\n",
      " 0.19678954 0.2039239  0.64684899 0.23305589 0.10939358 0.08145065\n",
      " 0.17598098 0.27288942 0.44589774 0.03448276 0.22057075 0.11236623\n",
      " 0.0921522  0.04875149 0.59631391 0.5469679  0.34423306 0.03864447\n",
      " 0.3353151  0.04458977 0.09334126 0.08323424 0.07015458 0.04637337\n",
      " 0.04399524 0.85731272 0.51248514 0.02497027 0.0648038  0.0665874\n",
      " 0.10642093 0.16587396 0.10404281 0.06718193 0.27526754 0.19916766\n",
      " 0.05707491 0.10404281 0.64625446 0.10463734 0.03032105 0.10760999\n",
      " 0.07491082 0.0665874  0.58382878 0.2431629  0.41498216 0.05410226\n",
      " 0.03983353 0.0921522  0.03151011 0.20273484 0.04340071 0.02972652\n",
      " 0.12663496 0.04815696 0.23483948 0.05053508 0.13020214 0.9334126\n",
      " 0.11414982 0.32877527 0.24435196 0.32401902 0.27883472 0.34482759\n",
      " 0.50059453 0.33174792 0.19560048 0.10998811 0.03448276 0.0648038\n",
      " 0.18549346 0.10166468 0.11950059 0.16409037 0.06242568 0.25029727\n",
      " 0.08204518 0.08977408 0.03983353 0.47324614 0.06361474 0.57907253\n",
      " 0.03388823 0.12187872 0.07134364 0.1706302  0.30023781 0.10642093\n",
      " 0.09750297 0.04161712 0.06956005 0.25267539 0.03151011 0.25505351\n",
      " 0.36920333 0.2235434  0.1783591  0.06718193 0.06539834 0.1058264\n",
      " 0.21284185 0.06599287 0.35969084 0.17479191 0.39298454 0.22829964\n",
      " 0.17895363 0.31866825 0.12306778 0.05410226 0.28061831 0.42984542\n",
      " 0.17479191 0.39714625 0.12604043 0.14625446 0.03804994 0.03626635\n",
      " 0.04221165 0.04102259 0.039239   0.33590963 0.0469679  0.04042806\n",
      " 0.05826397 0.11117717 0.08501784 0.03448276 0.22770511 0.04577883\n",
      " 0.18846611 0.48156956 0.08204518 0.09750297 0.21878716 0.09036861\n",
      " 0.06956005 0.07728894 0.0469679  0.52318668 0.39892985 0.15755054\n",
      " 0.38347206 0.29488704 0.63258026 0.14149822 0.1058264  0.11296076\n",
      " 0.20451843 0.18906064 0.3216409  0.04102259 0.25445898 0.09869203\n",
      " 0.04280618 0.2508918  0.04399524 0.06956005 0.56599287 0.12247325\n",
      " 0.19738407 0.17598098 0.08917955 0.07312723 0.09453032 0.03864447\n",
      " 0.12960761 0.15041617 0.48929845 0.10225922 0.0451843  0.0469679\n",
      " 0.07609988 0.2294887  0.25208086 0.12068966 0.1117717  0.0255648\n",
      " 0.03032105 0.02913199 0.0921522  0.0665874  0.0451843  0.05529132\n",
      " 0.30856124 0.03210464 0.12009512 0.07431629 0.05053508 0.08680143\n",
      " 0.04577883 0.03151011 0.13495838 0.23900119 0.11950059 0.38287753\n",
      " 0.07907253 0.08026159 0.1254459  0.58680143 0.26991677 0.04042806\n",
      " 0.1391201  0.02140309 0.07431629 0.04042806 0.07550535 0.14149822\n",
      " 0.21165279 0.05172414 0.07193817 0.04280618 0.1373365  0.42925089\n",
      " 0.06242568 0.27467301 0.02853746 0.13079667 0.06183115 0.03388823\n",
      " 0.05469679 0.05707491 0.17181926 0.0725327  0.12604043 0.32401902\n",
      " 0.15398335 0.17895363 0.26159334 0.34244946 0.06956005 0.24791914\n",
      " 0.16230678 0.03567182 0.2508918  0.05529132 0.19678954 0.14625446\n",
      " 0.02853746 0.2039239  0.07907253 0.19084423 0.04994055 0.03864447\n",
      " 0.12009512 0.10939358 0.20570749 0.20630202 0.06718193 0.51248514\n",
      " 0.35552913 0.08263971 0.21224732 0.04934602 0.11355529 0.41200951\n",
      " 0.04815696 0.45600476 0.03388823 0.02853746 0.33590963 0.22473246\n",
      " 0.87098692 0.02437574 0.04161712 0.12841855 0.32996433 0.27586207\n",
      " 0.20570749 0.03091558 0.25743163 0.2901308  0.2175981  0.39833532\n",
      " 0.07669441 0.07966706 0.15338882 0.07015458 0.20570749 0.03686088\n",
      " 0.0665874  0.06896552 0.04815696 0.13614744 0.06777646 0.03448276\n",
      " 0.10166468 0.07550535 0.03151011 0.56896552 0.10523187 0.13852556\n",
      " 0.01902497 0.15041617 0.03804994 0.05707491 0.06718193 0.16171225\n",
      " 0.0588585  0.05945303 0.2235434  0.27942925 0.0588585  0.05053508\n",
      " 0.17717004 0.16349584 0.20630202 0.03507729 0.05350773 0.03210464\n",
      " 0.08145065 0.16349584 0.19262782 0.04815696 0.37336504 0.13376932\n",
      " 0.21938169 0.14149822 0.37693222 0.26337693 0.04637337 0.07550535\n",
      " 0.2491082  0.47205707 0.15457788 0.05529132 0.09334126 0.05707491\n",
      " 0.25862069 0.0588585  0.03626635 0.08145065 0.03983353 0.03151011\n",
      " 0.43222354 0.04756243 0.02021403 0.05648038 0.12366231 0.0255648\n",
      " 0.13852556 0.11950059 0.07609988 0.03210464 0.04756243 0.23900119\n",
      " 0.05648038 0.02615933 0.16587396 0.04102259 0.05172414 0.04577883\n",
      " 0.07609988 0.09869203 0.53864447 0.17954816 0.47919144 0.03983353\n",
      " 0.26694411 0.10939358 0.09750297 0.0451843  0.05766944 0.1646849\n",
      " 0.2491082  0.60166468 0.05529132 0.06718193 0.08501784 0.02259215\n",
      " 0.20868014 0.1706302  0.03626635 0.2431629  0.08442331 0.09631391\n",
      " 0.0469679  0.117717   0.09750297 0.06064209 0.23365042 0.2294887\n",
      " 0.04280618 0.16646849 0.05350773 0.07788347 0.05410226 0.08858502\n",
      " 0.07669441 0.28775268 0.05766944 0.07134364 0.0451843  0.20570749\n",
      " 0.08145065 0.37039239 0.04577883 0.32045184 0.04458977 0.07134364\n",
      " 0.08323424 0.07966706 0.21403092 0.55469679 0.03388823 0.36682521\n",
      " 0.03626635 0.0451843  0.04221165 0.11474435 0.04756243 0.55707491\n",
      " 0.41498216 0.22116528 0.36444709 0.03804994 0.02675386 0.04042806\n",
      " 0.03507729 0.02378121 0.03686088 0.04875149 0.31093936 0.03983353\n",
      " 0.05588585 0.03567182 0.04934602 0.02853746 0.10760999 0.03567182\n",
      " 0.30499405 0.01843044 0.2294887  0.19678954 0.0451843  0.13852556\n",
      " 0.09690844 0.16587396 0.11355529 0.02615933 0.3686088  0.10047562\n",
      " 0.19262782 0.07372176 0.06837099 0.16825208 0.08323424 0.37574316\n",
      " 0.0665874  0.0451843  0.24494649 0.117717   0.03864447 0.67895363\n",
      " 0.21224732 0.28299643 0.06361474 0.08501784 0.34185493 0.06777646\n",
      " 0.06123662 0.30142687 0.02794293 0.03745541 0.03567182 0.03626635\n",
      " 0.07074911 0.10166468 0.06837099 0.32758621 0.14090369 0.48573127\n",
      " 0.06896552 0.02199762 0.17717004 0.28121284 0.04994055 0.41854935\n",
      " 0.18668252 0.11058264 0.02259215 0.05648038 0.16646849 0.03448276\n",
      " 0.13317479 0.19500595 0.05172414 0.53864447 0.38703924 0.22829964\n",
      " 0.45778835 0.07312723 0.16527943 0.37693222 0.31747919 0.04161712\n",
      " 0.50297265 0.21224732 0.07966706 0.40011891 0.0862069  0.42687277\n",
      " 0.03210464 0.49821641 0.32818074 0.04934602 0.21343639 0.05231867\n",
      " 0.19857313 0.0862069  0.2175981  0.07788347 0.06064209 0.06896552\n",
      " 0.29785969 0.11355529 0.05231867 0.09155767 0.17717004 0.08739596\n",
      " 0.19500595 0.02199762 0.03091558 0.45659929 0.05766944 0.15517241\n",
      " 0.32818074 0.03507729 0.16052319 0.17776457 0.1391201  0.1313912\n",
      " 0.04161712 0.02972652 0.21640904 0.06777646 0.0725327  0.08977408\n",
      " 0.10047562 0.42330559 0.21105826 0.27170036 0.08263971 0.25564804\n",
      " 0.04815696 0.16290131 0.0921522  0.16290131 0.03626635 0.16706302\n",
      " 0.23781213]\n"
     ]
    }
   ],
   "source": [
    "user_prediction = predict(train_data_matrix, user_similarity, type='user')"
   ]
  },
  {
   "cell_type": "code",
   "execution_count": null,
   "metadata": {
    "id": "kNnxntPur_hg",
    "outputId": "3e6e446c-cacb-4d21-ccf8-216266972656"
   },
   "outputs": [
    {
     "name": "stdout",
     "output_type": "stream",
     "text": [
      "[[ 1.56184391  0.55331953  0.5009738  ...  0.28449747  0.28453743\n",
      "   0.2842643 ]\n",
      " [ 1.30305389  0.27544604  0.19232274 ... -0.05728811 -0.05594577\n",
      "  -0.05589883]\n",
      " [ 1.32743656  0.23897     0.16231717 ... -0.09375539 -0.09198177\n",
      "  -0.09193703]\n",
      " ...\n",
      " [ 1.18133062  0.19532201  0.11405586 ... -0.12914493 -0.12827083\n",
      "  -0.1282433 ]\n",
      " [ 1.37079357  0.31278528  0.25651701 ...  0.00866365  0.00935378\n",
      "   0.00973194]\n",
      " [ 1.38379781  0.35320187  0.30798131 ...  0.0874553   0.08753234\n",
      "   0.08747436]]\n"
     ]
    }
   ],
   "source": [
    "print(user_prediction)"
   ]
  },
  {
   "cell_type": "markdown",
   "metadata": {
    "id": "eC2hqcSDr_hh"
   },
   "source": [
    "### Etape 4 :  Evaluer votre prédiction avec la mesure RMSE (Root Mean Squared Error).\n",
    "\n",
    "\n",
    "$$\\sqrt{\\frac{1}{n} \\sum_{xi} (r_{xi} - r_{xi}^{*})^{2}}$$\n",
    "où, $r_{xi}^{*}$ correspond à la valeur prédite pour $r_{xi}$."
   ]
  },
  {
   "cell_type": "code",
   "execution_count": null,
   "metadata": {
    "id": "lspeMbD0r_hh"
   },
   "outputs": [],
   "source": [
    "from math import sqrt\n",
    "from sklearn.metrics import mean_squared_error\n",
    "\n",
    "def rmse(prediction, ground_truth):\n",
    "    prediction = prediction[ground_truth.nonzero()].flatten()\n",
    "    ground_truth = ground_truth[ground_truth.nonzero()].flatten()\n",
    "    return sqrt(mean_squared_error(prediction, ground_truth))"
   ]
  },
  {
   "cell_type": "code",
   "execution_count": null,
   "metadata": {
    "id": "b_tPJxC8r_hh",
    "outputId": "fbbd5aff-f0e2-43a0-8334-44baf993963d"
   },
   "outputs": [
    {
     "name": "stdout",
     "output_type": "stream",
     "text": [
      "User-based CF RMSE: 3.1331639351386804\n"
     ]
    }
   ],
   "source": [
    "\n",
    "print('User-based CF RMSE: ' + str(rmse(user_prediction, test_data_matrix)))"
   ]
  },
  {
   "cell_type": "code",
   "execution_count": 1,
   "metadata": {
    "colab": {
     "base_uri": "https://localhost:8080/",
     "height": 181
    },
    "executionInfo": {
     "elapsed": 820,
     "status": "error",
     "timestamp": 1622148693866,
     "user": {
      "displayName": "Wassila Ouerdane",
      "photoUrl": "",
      "userId": "06311256887956564892"
     },
     "user_tz": -120
    },
    "id": "VcEinvVur_hh",
    "outputId": "9ce79f5f-8eb1-4981-bc3e-18bccd530be4"
   },
   "outputs": [
    {
     "ename": "NameError",
     "evalue": "ignored",
     "output_type": "error",
     "traceback": [
      "\u001b[0;31m---------------------------------------------------------------------------\u001b[0m",
      "\u001b[0;31mNameError\u001b[0m                                 Traceback (most recent call last)",
      "\u001b[0;32m<ipython-input-1-23ae9aed101c>\u001b[0m in \u001b[0;36m<module>\u001b[0;34m()\u001b[0m\n\u001b[0;32m----> 1\u001b[0;31m \u001b[0msparsity\u001b[0m\u001b[0;34m=\u001b[0m\u001b[0mround\u001b[0m\u001b[0;34m(\u001b[0m\u001b[0;36m1.0\u001b[0m\u001b[0;34m-\u001b[0m\u001b[0mlen\u001b[0m\u001b[0;34m(\u001b[0m\u001b[0mdata\u001b[0m\u001b[0;34m)\u001b[0m\u001b[0;34m/\u001b[0m\u001b[0mfloat\u001b[0m\u001b[0;34m(\u001b[0m\u001b[0mnb_users\u001b[0m\u001b[0;34m*\u001b[0m\u001b[0mnb_items\u001b[0m\u001b[0;34m)\u001b[0m\u001b[0;34m,\u001b[0m\u001b[0;36m3\u001b[0m\u001b[0;34m)\u001b[0m\u001b[0;34m\u001b[0m\u001b[0;34m\u001b[0m\u001b[0m\n\u001b[0m\u001b[1;32m      2\u001b[0m \u001b[0mprint\u001b[0m\u001b[0;34m(\u001b[0m\u001b[0;34m'The sparsity level of MovieLens100K is '\u001b[0m \u001b[0;34m+\u001b[0m  \u001b[0mstr\u001b[0m\u001b[0;34m(\u001b[0m\u001b[0msparsity\u001b[0m\u001b[0;34m*\u001b[0m\u001b[0;36m100\u001b[0m\u001b[0;34m)\u001b[0m \u001b[0;34m+\u001b[0m \u001b[0;34m'%'\u001b[0m\u001b[0;34m)\u001b[0m\u001b[0;34m\u001b[0m\u001b[0;34m\u001b[0m\u001b[0m\n",
      "\u001b[0;31mNameError\u001b[0m: name 'data' is not defined"
     ]
    }
   ],
   "source": [
    "sparsity=round(1.0-len(data)/float(nb_users*nb_items),3)\n",
    "print('The sparsity level of MovieLens100K is ' +  str(sparsity*100) + '%')"
   ]
  },
  {
   "cell_type": "markdown",
   "metadata": {
    "id": "mwHJOoXGr_hi"
   },
   "source": [
    "## Approche par modèles : **item-item**\n",
    "\n",
    "<div class=\"alert alert-block alert-danger\">\n",
    "<b>Conseil : </b>  à faire une fois la partie memory-based réalisée. \n",
    "</div>\n",
    "\n",
    "#### **Faire le même travail avec l'approche item-item. Il est possible  de réutiliser les fonctions implémentées précédemment.**"
   ]
  },
  {
   "cell_type": "code",
   "execution_count": null,
   "metadata": {
    "id": "HPM_-B0Sr_hi",
    "outputId": "07a04389-1f2d-4a10-b1c2-e8c5572503b5"
   },
   "outputs": [
    {
     "name": "stdout",
     "output_type": "stream",
     "text": [
      "[[0.         0.71212207 0.73912744 ... 1.         0.94532334 0.94532334]\n",
      " [0.71212207 0.         0.7645909  ... 1.         0.90789917 1.        ]\n",
      " [0.73912744 0.7645909  0.         ... 1.         1.         0.89776027]\n",
      " ...\n",
      " [1.         1.         1.         ... 0.         1.         1.        ]\n",
      " [0.94532334 0.90789917 1.         ... 1.         0.         1.        ]\n",
      " [0.94532334 1.         0.89776027 ... 1.         1.         0.        ]]\n"
     ]
    }
   ],
   "source": [
    "from sklearn.metrics.pairwise import pairwise_distances\n",
    "item_similarity = pairwise_distances(train_data_matrix.T, metric='cosine')\n",
    "print(item_similarity)"
   ]
  },
  {
   "cell_type": "code",
   "execution_count": null,
   "metadata": {
    "id": "erZUxMAQr_hi"
   },
   "outputs": [],
   "source": [
    "def predict(ratings, similarity, type='user'):\n",
    "    if type == 'user':\n",
    "        mean_user_rating = ratings.mean(axis=1)\n",
    "        #You use np.newaxis so that mean_user_rating has same format as ratings\n",
    "        ratings_diff = (ratings - mean_user_rating[:, np.newaxis])\n",
    "        pred = mean_user_rating[:, np.newaxis] + similarity.dot(ratings_diff) / np.array([np.abs(similarity).sum(axis=1)]).T\n",
    "    elif type == 'item':\n",
    "        pred = ratings.dot(similarity) / np.array([np.abs(similarity).sum(axis=1)])\n",
    "    return pred"
   ]
  },
  {
   "cell_type": "code",
   "execution_count": null,
   "metadata": {
    "id": "TCbUNHznr_hi",
    "outputId": "b5798721-654c-44ab-f046-0b1edbe17ac1"
   },
   "outputs": [
    {
     "name": "stdout",
     "output_type": "stream",
     "text": [
      "[[0.35982821 0.09196331 0.07208854 ... 0.0247534  0.14313561 0.19156267]\n",
      " [0.37462728 0.10516297 0.07460356 ... 0.03237348 0.15090598 0.1912388 ]\n",
      " [0.38381196 0.10244313 0.0728038  ... 0.03090388 0.15931311 0.2052582 ]\n",
      " ...\n",
      " [0.43604488 0.10842187 0.07104262 ... 0.03622126 0.16666476 0.23968155]\n",
      " [0.42778797 0.10962726 0.07423161 ... 0.03534362 0.16489851 0.23254411]\n",
      " [0.42336847 0.10955292 0.07474728 ... 0.03542828 0.16702472 0.23197738]]\n"
     ]
    }
   ],
   "source": [
    "item_prediction = predict(train_data_matrix, item_similarity, type='item')\n",
    "#print(item_prediction)\n",
    "print(np.transpose(item_prediction))"
   ]
  },
  {
   "cell_type": "code",
   "execution_count": null,
   "metadata": {
    "id": "Y7UEuK4wr_hj",
    "outputId": "98464045-8212-4d34-aaeb-a88d6e672c3c"
   },
   "outputs": [
    {
     "name": "stdout",
     "output_type": "stream",
     "text": [
      "Item-based CF RMSE: 3.4601991727164085\n"
     ]
    }
   ],
   "source": [
    "print('Item-based CF RMSE: ' + str(rmse(item_prediction, test_data_matrix)))"
   ]
  }
 ],
 "metadata": {
  "colab": {
   "collapsed_sections": [
    "XDjOYMJRr_hb"
   ],
   "name": "Lab_7_Recommandation-Students_Correction.ipynb",
   "provenance": []
  },
  "kernelspec": {
   "display_name": "Python 3",
   "language": "python",
   "name": "python3"
  },
  "language_info": {
   "codemirror_mode": {
    "name": "ipython",
    "version": 3
   },
   "file_extension": ".py",
   "mimetype": "text/x-python",
   "name": "python",
   "nbconvert_exporter": "python",
   "pygments_lexer": "ipython3",
   "version": "3.7.9"
  }
 },
 "nbformat": 4,
 "nbformat_minor": 1
}
